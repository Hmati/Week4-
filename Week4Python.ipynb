{
  "nbformat": 4,
  "nbformat_minor": 0,
  "metadata": {
    "colab": {
      "name": "Copy of Copy of Copy of Week4Python.ipynb",
      "provenance": [],
      "collapsed_sections": []
    },
    "kernelspec": {
      "name": "python3",
      "display_name": "Python 3"
    }
  },
  "cells": [
    {
      "cell_type": "markdown",
      "metadata": {
        "id": "C9rCIne5jVER"
      },
      "source": [
        "**In this week's independent project, you will be working as a data scientist working for an electric car-sharing service company. You have been tasked to process stations data to understand electric car usage over time - April 2018**"
      ]
    },
    {
      "cell_type": "code",
      "metadata": {
        "id": "mQzYWHlmpNnY"
      },
      "source": [
        "#Import panda and numpy libs\n",
        "\n",
        "import pandas as pd\n",
        "import numpy as np"
      ],
      "execution_count": 106,
      "outputs": []
    },
    {
      "cell_type": "code",
      "metadata": {
        "id": "VKeJBKA7qLpy"
      },
      "source": [
        "#Import csv file as a dataframe and dispalay 10 first rows\n",
        "#Colnames=['Address','Cars','Bluecar counter','Utilib counter','Utilib 1.4 counter','Charge Slots','Charging Status','City','Displayed comment','ID','Kind','Geo point','Postal code',         \n",
        "# 'Public name','Rental status','Scheduled at','Slots','Station type','Status','Subscription status','year','month','day','hour' ]                \n",
        "\n",
        "url=\"/content/Autolib_dataset (2).csv\"\n",
        " \n",
        "Autolib=pd.read_csv(url )\n",
        "\n",
        "Autolib.head(5)"
      ],
      "execution_count": null,
      "outputs": []
    },
    {
      "cell_type": "code",
      "metadata": {
        "id": "Jl7JbnI46uW_"
      },
      "source": [
        "Autolib['ID']"
      ],
      "execution_count": null,
      "outputs": []
    },
    {
      "cell_type": "code",
      "metadata": {
        "id": "3XfkIQok0BRW"
      },
      "source": [
        "#Df general information\n",
        "Autolib.info()"
      ],
      "execution_count": null,
      "outputs": []
    },
    {
      "cell_type": "code",
      "metadata": {
        "id": "szCATAcT3Vn8"
      },
      "source": [
        "#Shape\n",
        "Autolib.shape"
      ],
      "execution_count": null,
      "outputs": []
    },
    {
      "cell_type": "code",
      "metadata": {
        "id": "H_3jRBfK3h-I"
      },
      "source": [
        "#Data types in dataset\n",
        "Autolib.dtypes"
      ],
      "execution_count": null,
      "outputs": []
    },
    {
      "cell_type": "code",
      "metadata": {
        "id": "AgKFnGOJrYmK",
        "colab": {
          "base_uri": "https://localhost:8080/",
          "height": 185
        },
        "outputId": "1962e9a6-dc5b-4ac8-8769-c00ef8b7c4ab"
      },
      "source": [
        "#Data Validity \n",
        "#Remove any unneeded data from the dataset \n",
        "#Check syntax errors\n",
        "#Remove any spaces \n",
        "\n",
        "New_Autolib_dataset=Autolib.drop(columns=['Charge Slots', 'Charging Status','ID', 'Geo point','year', 'Subscription status'])\n",
        "New_Autolib_dataset.head(1)"
      ],
      "execution_count": 86,
      "outputs": [
        {
          "output_type": "execute_result",
          "data": {
            "text/html": [
              "<div>\n",
              "<style scoped>\n",
              "    .dataframe tbody tr th:only-of-type {\n",
              "        vertical-align: middle;\n",
              "    }\n",
              "\n",
              "    .dataframe tbody tr th {\n",
              "        vertical-align: top;\n",
              "    }\n",
              "\n",
              "    .dataframe thead th {\n",
              "        text-align: right;\n",
              "    }\n",
              "</style>\n",
              "<table border=\"1\" class=\"dataframe\">\n",
              "  <thead>\n",
              "    <tr style=\"text-align: right;\">\n",
              "      <th></th>\n",
              "      <th>Address</th>\n",
              "      <th>Cars</th>\n",
              "      <th>Bluecar counter</th>\n",
              "      <th>Utilib counter</th>\n",
              "      <th>Utilib 1.4 counter</th>\n",
              "      <th>City</th>\n",
              "      <th>Displayed comment</th>\n",
              "      <th>Kind</th>\n",
              "      <th>Postal code</th>\n",
              "      <th>Public name</th>\n",
              "      <th>Rental status</th>\n",
              "      <th>Scheduled at</th>\n",
              "      <th>Slots</th>\n",
              "      <th>Station type</th>\n",
              "      <th>Status</th>\n",
              "      <th>month</th>\n",
              "      <th>day</th>\n",
              "      <th>hour</th>\n",
              "      <th>minute</th>\n",
              "    </tr>\n",
              "  </thead>\n",
              "  <tbody>\n",
              "    <tr>\n",
              "      <th>0</th>\n",
              "      <td>2 Avenue de Suffren</td>\n",
              "      <td>0</td>\n",
              "      <td>0</td>\n",
              "      <td>0</td>\n",
              "      <td>0</td>\n",
              "      <td>Paris</td>\n",
              "      <td>NaN</td>\n",
              "      <td>STATION</td>\n",
              "      <td>75015</td>\n",
              "      <td>Paris/Suffren/2</td>\n",
              "      <td>operational</td>\n",
              "      <td>NaN</td>\n",
              "      <td>2</td>\n",
              "      <td>station</td>\n",
              "      <td>ok</td>\n",
              "      <td>4</td>\n",
              "      <td>8</td>\n",
              "      <td>11</td>\n",
              "      <td>43</td>\n",
              "    </tr>\n",
              "  </tbody>\n",
              "</table>\n",
              "</div>"
            ],
            "text/plain": [
              "               Address  Cars  Bluecar counter  ...  day  hour minute\n",
              "0  2 Avenue de Suffren     0                0  ...    8    11     43\n",
              "\n",
              "[1 rows x 19 columns]"
            ]
          },
          "metadata": {
            "tags": []
          },
          "execution_count": 86
        }
      ]
    },
    {
      "cell_type": "code",
      "metadata": {
        "id": "RBJm9SPDM3ig"
      },
      "source": [
        "New_Autolib_dataset.info()"
      ],
      "execution_count": null,
      "outputs": []
    },
    {
      "cell_type": "code",
      "metadata": {
        "id": "YctPwuDY1xfn"
      },
      "source": [
        "#Accuracy \n",
        "#Data accuracy - Check if the values in the data make sense and have accurate computations  accurate \n"
      ],
      "execution_count": null,
      "outputs": []
    },
    {
      "cell_type": "code",
      "metadata": {
        "id": "7VLyk8u9ADRF"
      },
      "source": [
        "#Completeness\n",
        "#We check for null values \n",
        "#Count and replace \n",
        "\n",
        "\n",
        "# Checking if there is any missing value in dataframe as a whole\n",
        " \n",
        "New_Autolib_dataset.isnull()"
      ],
      "execution_count": null,
      "outputs": []
    },
    {
      "cell_type": "code",
      "metadata": {
        "id": "aJpnvFUiAx7E"
      },
      "source": [
        "# Checking if there is any missing value across each column\n",
        "New_Autolib_dataset.isnull().any()"
      ],
      "execution_count": null,
      "outputs": []
    },
    {
      "cell_type": "code",
      "metadata": {
        "id": "hrc8H6T-A1jS"
      },
      "source": [
        "# Checking how many missing values there are across each column\n",
        "\n",
        "New_Autolib_dataset.isnull().sum()"
      ],
      "execution_count": null,
      "outputs": []
    },
    {
      "cell_type": "code",
      "metadata": {
        "id": "mDolTG-FA3ue"
      },
      "source": [
        "#  we can do a quick check to see if we have any missing values at all\n",
        "New_Autolib_dataset.isnull().values.any()"
      ],
      "execution_count": null,
      "outputs": []
    },
    {
      "cell_type": "code",
      "metadata": {
        "id": "S5JJMJZlBxPu"
      },
      "source": [
        "#Drop all rows with all missing values\n",
        "all_rows_all_na = New_Autolib_dataset.dropna(how=\"all\")\n",
        "print(all_rows_all_na)"
      ],
      "execution_count": null,
      "outputs": []
    },
    {
      "cell_type": "code",
      "metadata": {
        "id": "Yu0VKNukBXmo",
        "colab": {
          "base_uri": "https://localhost:8080/",
          "height": 185
        },
        "outputId": "aa75146b-177b-4d1b-aec3-a75dd0089a10"
      },
      "source": [
        "#Remove columns with very high numbers of missing values and they may not be relevant \n",
        "\n",
        "New_Autolib_dataset=New_Autolib_dataset.drop(columns=[ 'Displayed comment', 'Scheduled at','Rental status'])\n",
        "New_Autolib_dataset.head(1)"
      ],
      "execution_count": 83,
      "outputs": [
        {
          "output_type": "execute_result",
          "data": {
            "text/html": [
              "<div>\n",
              "<style scoped>\n",
              "    .dataframe tbody tr th:only-of-type {\n",
              "        vertical-align: middle;\n",
              "    }\n",
              "\n",
              "    .dataframe tbody tr th {\n",
              "        vertical-align: top;\n",
              "    }\n",
              "\n",
              "    .dataframe thead th {\n",
              "        text-align: right;\n",
              "    }\n",
              "</style>\n",
              "<table border=\"1\" class=\"dataframe\">\n",
              "  <thead>\n",
              "    <tr style=\"text-align: right;\">\n",
              "      <th></th>\n",
              "      <th>Address</th>\n",
              "      <th>Cars</th>\n",
              "      <th>Bluecar counter</th>\n",
              "      <th>Utilib counter</th>\n",
              "      <th>Utilib 1.4 counter</th>\n",
              "      <th>City</th>\n",
              "      <th>Kind</th>\n",
              "      <th>Postal code</th>\n",
              "      <th>Public name</th>\n",
              "      <th>Slots</th>\n",
              "      <th>Station type</th>\n",
              "      <th>Status</th>\n",
              "      <th>year</th>\n",
              "      <th>month</th>\n",
              "      <th>day</th>\n",
              "      <th>hour</th>\n",
              "      <th>minute</th>\n",
              "    </tr>\n",
              "  </thead>\n",
              "  <tbody>\n",
              "    <tr>\n",
              "      <th>0</th>\n",
              "      <td>2 Avenue de Suffren</td>\n",
              "      <td>0</td>\n",
              "      <td>0</td>\n",
              "      <td>0</td>\n",
              "      <td>0</td>\n",
              "      <td>Paris</td>\n",
              "      <td>STATION</td>\n",
              "      <td>75015</td>\n",
              "      <td>Paris/Suffren/2</td>\n",
              "      <td>2</td>\n",
              "      <td>station</td>\n",
              "      <td>ok</td>\n",
              "      <td>2018</td>\n",
              "      <td>4</td>\n",
              "      <td>8</td>\n",
              "      <td>11</td>\n",
              "      <td>43</td>\n",
              "    </tr>\n",
              "  </tbody>\n",
              "</table>\n",
              "</div>"
            ],
            "text/plain": [
              "               Address  Cars  Bluecar counter  ...  day  hour minute\n",
              "0  2 Avenue de Suffren     0                0  ...    8    11     43\n",
              "\n",
              "[1 rows x 17 columns]"
            ]
          },
          "metadata": {
            "tags": []
          },
          "execution_count": 83
        }
      ]
    },
    {
      "cell_type": "code",
      "metadata": {
        "id": "muOh9IDJDAII"
      },
      "source": [
        "# Checking if there is any missing value in new dataframe as a whole\n",
        " \n",
        "New_Autolib_dataset.isnull().sum()"
      ],
      "execution_count": null,
      "outputs": []
    },
    {
      "cell_type": "code",
      "metadata": {
        "colab": {
          "base_uri": "https://localhost:8080/"
        },
        "id": "e-9TUesfiDVh",
        "outputId": "f34ff9cf-e158-4eea-f388-5accf8ef33f2"
      },
      "source": [
        "New_Autolib_dataset.shape"
      ],
      "execution_count": null,
      "outputs": [
        {
          "output_type": "execute_result",
          "data": {
            "text/plain": [
              "(5000, 20)"
            ]
          },
          "metadata": {
            "tags": []
          },
          "execution_count": 12
        }
      ]
    },
    {
      "cell_type": "code",
      "metadata": {
        "id": "VVOcOVY8CnBE"
      },
      "source": [
        "#CONSISTENCY \n",
        "#Check for duplicates in rows\n",
        "\n",
        "duplicate = New_Autolib_dataset[New_Autolib_dataset.duplicated()] \n",
        "duplicate"
      ],
      "execution_count": null,
      "outputs": []
    },
    {
      "cell_type": "code",
      "metadata": {
        "id": "2F8diGSF89Rj",
        "colab": {
          "base_uri": "https://localhost:8080/"
        },
        "outputId": "17a7f606-c038-4883-8514-585df656a3ba"
      },
      "source": [
        "#Check for duplicates in columns \n",
        "#Get a list of duplicate columns.\n",
        "#The cars colums has the same number as the Blue cars from data description\n"
      ],
      "execution_count": 72,
      "outputs": [
        {
          "output_type": "execute_result",
          "data": {
            "text/plain": [
              "[]"
            ]
          },
          "metadata": {
            "tags": []
          },
          "execution_count": 72
        }
      ]
    },
    {
      "cell_type": "code",
      "metadata": {
        "id": "0ZXEx4c-SVHi"
      },
      "source": [
        "#Drop duplicate column to the blue car counter \n",
        "New_Autolib_dataset=New_Autolib_dataset.drop(columns=[ 'Cars'])\n",
        "New_Autolib_dataset\n"
      ],
      "execution_count": null,
      "outputs": []
    },
    {
      "cell_type": "markdown",
      "metadata": {
        "id": "ejd206tki1VQ"
      },
      "source": [
        "**Questions to answer**"
      ]
    },
    {
      "cell_type": "code",
      "metadata": {
        "id": "R20rz5eSjp2I"
      },
      "source": [
        "#Load the new cleaned dataset\n",
        "# Importing the pandas library\n",
        " \n",
        "import pandas as pd\n",
        "\n",
        "# Importing the numpy library\n",
        "#\n",
        "import numpy as np\n",
        "New_Autolib_dataset=New_Autolib_dataset.to_csv('New_Autolib_dataset.csv')\n"
      ],
      "execution_count": null,
      "outputs": []
    },
    {
      "cell_type": "code",
      "metadata": {
        "id": "ujd6Xwh3kT1s"
      },
      "source": [
        "\n",
        "New_Autolib_dataset.head(5)"
      ],
      "execution_count": null,
      "outputs": []
    },
    {
      "cell_type": "code",
      "metadata": {
        "id": "LBFezsHikat8"
      },
      "source": [
        "#Identify the most popular hour of the day for picking up a shared electric car (Bluecar) \n",
        "#in the city of Paris over the month of April 2018.\n",
        "PopHr=New_Autolib_dataset.loc[(New_Autolib_dataset['City'] == 'Paris') &\n",
        "                               (New_Autolib_dataset['Bluecar counter']!=0) ,['hour']]\n",
        "PopHr.value_counts()"
      ],
      "execution_count": null,
      "outputs": []
    },
    {
      "cell_type": "code",
      "metadata": {
        "colab": {
          "base_uri": "https://localhost:8080/"
        },
        "id": "moeQvw5Vxikz",
        "outputId": "5d7ec602-8c4d-4ec3-e0de-43427bf5f810"
      },
      "source": [
        "#What postal code is the most popular for picking up Blue cars At the most popular picking hour?\n",
        "W=New_Autolib_dataset.loc[(New_Autolib_dataset['hour'] == 21) &\n",
        "                               (New_Autolib_dataset['Bluecar counter']!=0) ,['Postal code']]\n",
        "W.value_counts().nlargest(1)"
      ],
      "execution_count": 46,
      "outputs": [
        {
          "output_type": "execute_result",
          "data": {
            "text/plain": [
              "Postal code\n",
              "75014          12\n",
              "dtype: int64"
            ]
          },
          "metadata": {
            "tags": []
          },
          "execution_count": 46
        }
      ]
    },
    {
      "cell_type": "code",
      "metadata": {
        "id": "W-eU6kjToeKR",
        "colab": {
          "base_uri": "https://localhost:8080/"
        },
        "outputId": "175244fc-6632-4a0b-c465-7795f49171a3"
      },
      "source": [
        "#What is the most popular hour for returning cars?\n",
        "New_Autolib_dataset['hour'].value_counts().nlargest(1)"
      ],
      "execution_count": 51,
      "outputs": [
        {
          "output_type": "execute_result",
          "data": {
            "text/plain": [
              "21    237\n",
              "Name: hour, dtype: int64"
            ]
          },
          "metadata": {
            "tags": []
          },
          "execution_count": 51
        }
      ]
    },
    {
      "cell_type": "code",
      "metadata": {
        "id": "0BhdqRhYykPB"
      },
      "source": [
        "#Most popular postal code\n",
        "New_Autolib_dataset['Postal code'].value_counts().nlargest(1)"
      ],
      "execution_count": null,
      "outputs": []
    },
    {
      "cell_type": "code",
      "metadata": {
        "id": "pkNitZ-38Gxg"
      },
      "source": [
        "#Most popular city\n",
        "New_Autolib_dataset['City'].value_counts()"
      ],
      "execution_count": null,
      "outputs": []
    },
    {
      "cell_type": "code",
      "metadata": {
        "colab": {
          "base_uri": "https://localhost:8080/"
        },
        "id": "LQmAN2mSo68m",
        "outputId": "f1e74953-a9f6-4315-8943-d7cc0344cc47"
      },
      "source": [
        "#What station is the most popular?\n",
        "#Overall?\n",
        "New_Autolib_dataset['Public name'].value_counts().nlargest(1)"
      ],
      "execution_count": 53,
      "outputs": [
        {
          "output_type": "execute_result",
          "data": {
            "text/plain": [
              "Paris/Porte de Montrouge/8    13\n",
              "Name: Public name, dtype: int64"
            ]
          },
          "metadata": {
            "tags": []
          },
          "execution_count": 53
        }
      ]
    },
    {
      "cell_type": "code",
      "metadata": {
        "colab": {
          "base_uri": "https://localhost:8080/"
        },
        "id": "0BhhM1KFqhhr",
        "outputId": "5b73d14e-a47c-4442-b957-fe6b0cde2bd8"
      },
      "source": [
        "#What station is the most popular?At the most popular picking hour?\n",
        "popular_station=New_Autolib_dataset.loc[(New_Autolib_dataset['hour'] == 21) ,['Public name']]\n",
        "popular_station.value_counts().nlargest(1)"
      ],
      "execution_count": 55,
      "outputs": [
        {
          "output_type": "execute_result",
          "data": {
            "text/plain": [
              "Public name      \n",
              "Paris/Tronchet/19    4\n",
              "dtype: int64"
            ]
          },
          "metadata": {
            "tags": []
          },
          "execution_count": 55
        }
      ]
    },
    {
      "cell_type": "code",
      "metadata": {
        "colab": {
          "base_uri": "https://localhost:8080/"
        },
        "id": "uMdR_vKsvPLE",
        "outputId": "3614f845-1e35-4aba-bff8-bfc95839d364"
      },
      "source": [
        "#What postal code is the most popular for picking up Blue cars? \n",
        "\n",
        "popular_postal=New_Autolib_dataset.loc[(New_Autolib_dataset['Bluecar counter'] != 0) ,['Postal code']]\n",
        "popular_postal.value_counts().nlargest(1)\n"
      ],
      "execution_count": 58,
      "outputs": [
        {
          "output_type": "execute_result",
          "data": {
            "text/plain": [
              "Postal code\n",
              "75015          195\n",
              "dtype: int64"
            ]
          },
          "metadata": {
            "tags": []
          },
          "execution_count": 58
        }
      ]
    },
    {
      "cell_type": "code",
      "metadata": {
        "colab": {
          "base_uri": "https://localhost:8080/"
        },
        "id": "t8bCXegm0qcM",
        "outputId": "eceb941d-1353-46a1-cf67-b7d93eb44658"
      },
      "source": [
        "#What postal code is the most popular for picking up Utilib 1.4 counter cars? \n",
        "\n",
        "popular_postal=New_Autolib_dataset.loc[(New_Autolib_dataset['Utilib 1.4 counter'] != 0) ,['Postal code']]\n",
        "popular_postal.value_counts().nlargest(1)"
      ],
      "execution_count": 57,
      "outputs": [
        {
          "output_type": "execute_result",
          "data": {
            "text/plain": [
              "Postal code\n",
              "75017          36\n",
              "dtype: int64"
            ]
          },
          "metadata": {
            "tags": []
          },
          "execution_count": 57
        }
      ]
    },
    {
      "cell_type": "code",
      "metadata": {
        "colab": {
          "base_uri": "https://localhost:8080/"
        },
        "id": "J_WIHqqr0rnP",
        "outputId": "c3391a61-981b-4d66-e84f-94b4a51922b9"
      },
      "source": [
        "#What postal code is the most popular for picking up Utilib counter? \n",
        "\n",
        "popular_postal=New_Autolib_dataset.loc[(New_Autolib_dataset['Utilib counter'] != 0) ,['Postal code']]\n",
        "popular_postal.value_counts().nlargest(1)"
      ],
      "execution_count": 59,
      "outputs": [
        {
          "output_type": "execute_result",
          "data": {
            "text/plain": [
              "Postal code\n",
              "75016          20\n",
              "dtype: int64"
            ]
          },
          "metadata": {
            "tags": []
          },
          "execution_count": 59
        }
      ]
    },
    {
      "cell_type": "code",
      "metadata": {
        "id": "rFgaa4hox7gR",
        "colab": {
          "base_uri": "https://localhost:8080/"
        },
        "outputId": "6299e38d-1de4-4f9e-9e75-7e2541703d64"
      },
      "source": [
        "#Does the most popular station belong to that  most popular postal code?(Most popular postal code being 75015-274)\n",
        "\n",
        "\n",
        "x=New_Autolib_dataset.loc[(New_Autolib_dataset['Public name'] == 'Paris/Porte de Montrouge/8') ,['Postal code']]\n",
        "x.mode().value_counts()"
      ],
      "execution_count": 62,
      "outputs": [
        {
          "output_type": "execute_result",
          "data": {
            "text/plain": [
              "Postal code\n",
              "75014          1\n",
              "dtype: int64"
            ]
          },
          "metadata": {
            "tags": []
          },
          "execution_count": 62
        }
      ]
    },
    {
      "cell_type": "code",
      "metadata": {
        "colab": {
          "base_uri": "https://localhost:8080/"
        },
        "id": "mdipqG2PylJv",
        "outputId": "5072a4a4-0a83-435b-e39f-003ad2cf4583"
      },
      "source": [
        "##Does the most popular station belong to that  most popular postal code(75015-274) At the most popular picking hour(21)\n",
        "PopStat=New_Autolib_dataset.loc[(New_Autolib_dataset['Public name'] == 'Paris/Porte de Montrouge/8') &\n",
        "                               (New_Autolib_dataset['hour']==21) ,['Postal code']]\n",
        "\n",
        "PopStat.value_counts()"
      ],
      "execution_count": 63,
      "outputs": [
        {
          "output_type": "execute_result",
          "data": {
            "text/plain": [
              "Postal code\n",
              "75014          1\n",
              "dtype: int64"
            ]
          },
          "metadata": {
            "tags": []
          },
          "execution_count": 63
        }
      ]
    },
    {
      "cell_type": "code",
      "metadata": {
        "id": "Qps5pWov2GQ9",
        "colab": {
          "base_uri": "https://localhost:8080/"
        },
        "outputId": "415d636a-d5fc-4509-d3a4-339d867bb56d"
      },
      "source": [
        "#Do the results change if you consider Utilib and Utilib 1.4 instead of Blue cars? \n",
        "#The most popular hour in paris in April \n",
        "PopHr_Utilib=New_Autolib_dataset.loc[(New_Autolib_dataset['City'] == 'Paris') &\n",
        "                               (New_Autolib_dataset['Utilib 1.4 counter']!=0) & (New_Autolib_dataset['month']==4),['hour']]\n",
        "PopHr_Utilib.value_counts().nlargest(1)"
      ],
      "execution_count": 67,
      "outputs": [
        {
          "output_type": "execute_result",
          "data": {
            "text/plain": [
              "hour\n",
              "21      18\n",
              "dtype: int64"
            ]
          },
          "metadata": {
            "tags": []
          },
          "execution_count": 67
        }
      ]
    },
    {
      "cell_type": "code",
      "metadata": {
        "id": "6k8QY3j14Xcw",
        "colab": {
          "base_uri": "https://localhost:8080/"
        },
        "outputId": "b8b67620-e96b-4f73-8dac-b52b0779302b"
      },
      "source": [
        "#What postal code is the most popular for picking up Utilib 1.4 counter? \n",
        "\n",
        "popular_postal=New_Autolib_dataset.loc[(New_Autolib_dataset['Utilib 1.4 counter'] != 0) ,['Postal code']]\n",
        "popular_postal.value_counts().nlargest(1)"
      ],
      "execution_count": 17,
      "outputs": [
        {
          "output_type": "execute_result",
          "data": {
            "text/plain": [
              "Postal code\n",
              "75017          36\n",
              "dtype: int64"
            ]
          },
          "metadata": {
            "tags": []
          },
          "execution_count": 17
        }
      ]
    },
    {
      "cell_type": "code",
      "metadata": {
        "id": "4YziwaoV6zDp",
        "colab": {
          "base_uri": "https://localhost:8080/"
        },
        "outputId": "fda741b6-aa26-43a8-f4e5-587087600007"
      },
      "source": [
        "#What postal code is the most popular for picking up Utilib  \n",
        "\n",
        "popular_postal=New_Autolib_dataset.loc[(New_Autolib_dataset['Utilib counter'] != 0) ,['Postal code']]\n",
        "popular_postal.value_counts().nlargest(1)"
      ],
      "execution_count": 68,
      "outputs": [
        {
          "output_type": "execute_result",
          "data": {
            "text/plain": [
              "Postal code\n",
              "75016          20\n",
              "dtype: int64"
            ]
          },
          "metadata": {
            "tags": []
          },
          "execution_count": 68
        }
      ]
    },
    {
      "cell_type": "code",
      "metadata": {
        "colab": {
          "base_uri": "https://localhost:8080/"
        },
        "id": "Z_K0qTYAUUD3",
        "outputId": "4cc92356-72ab-4348-cb7e-d96aca623904"
      },
      "source": [
        "PopHr_Utilib=New_Autolib_dataset.loc[(New_Autolib_dataset['City'] == 'Paris') &\n",
        "                               (New_Autolib_dataset['Utilib counter']!=0) ,['hour']]\n",
        "PopHr_Utilib.value_counts().nlargest(1)"
      ],
      "execution_count": 92,
      "outputs": [
        {
          "output_type": "execute_result",
          "data": {
            "text/plain": [
              "hour\n",
              "6       12\n",
              "dtype: int64"
            ]
          },
          "metadata": {
            "tags": []
          },
          "execution_count": 92
        }
      ]
    },
    {
      "cell_type": "code",
      "metadata": {
        "id": "CcMkf5VlUjsx"
      },
      "source": [
        "#At the most popular picking hour Utilib counter\n",
        "\n",
        "PopStat=New_Autolib_dataset.loc[(New_Autolib_dataset['Public name'] == 'Paris/Porte de Montrouge/8') &\n",
        "                               (New_Autolib_dataset['hour']==21) ,['Postal code']]"
      ],
      "execution_count": null,
      "outputs": []
    },
    {
      "cell_type": "code",
      "metadata": {
        "id": "kztB803fVW1c"
      },
      "source": [
        "#Most used car by values \n",
        "New_Autolib_dataset['Utilib counter'].sum()\n",
        "\n"
      ],
      "execution_count": null,
      "outputs": []
    },
    {
      "cell_type": "code",
      "metadata": {
        "id": "803Szy6iWfa0"
      },
      "source": [
        "New_Autolib_dataset['Utilib 1.4 counter'].sum()\n"
      ],
      "execution_count": null,
      "outputs": []
    },
    {
      "cell_type": "code",
      "metadata": {
        "id": "DOeWgA3yWhOD"
      },
      "source": [
        "New_Autolib_dataset['Bluecar counter'].sum()"
      ],
      "execution_count": null,
      "outputs": []
    },
    {
      "cell_type": "code",
      "metadata": {
        "id": "64xncqkLwZOb"
      },
      "source": [
        "#Most popular kind of car\n",
        "New_Autolib_dataset['Kind'].value_counts()\n",
        "#Station with all utilities"
      ],
      "execution_count": null,
      "outputs": []
    },
    {
      "cell_type": "code",
      "metadata": {
        "id": "KJcaMaRz6Ytc"
      },
      "source": [
        "#Busiest month with renting cars \n",
        "New_Autolib_dataset['month'].value_counts()\n",
        "#Station with all utilities"
      ],
      "execution_count": null,
      "outputs": []
    },
    {
      "cell_type": "code",
      "metadata": {
        "id": "eGKcR6B497B4"
      },
      "source": [
        "#The highest number of parking slots in the station \n",
        "New_Autolib_dataset['Slots'].value_counts()"
      ],
      "execution_count": null,
      "outputs": []
    },
    {
      "cell_type": "code",
      "metadata": {
        "id": "PfbHpYKW9xvJ"
      },
      "source": [
        "#Number of parking slots in each station \n",
        "\n",
        "slots=New_Autolib_dataset.loc[(New_Autolib_dataset['Slots'] != 0) ,['Public name']]\n",
        "\n",
        "slots.value_counts()"
      ],
      "execution_count": null,
      "outputs": []
    },
    {
      "cell_type": "code",
      "metadata": {
        "id": "jssHNl4vDEet"
      },
      "source": [
        ""
      ],
      "execution_count": null,
      "outputs": []
    },
    {
      "cell_type": "markdown",
      "metadata": {
        "id": "GYzLJSTajTii"
      },
      "source": [
        ""
      ]
    }
  ]
}